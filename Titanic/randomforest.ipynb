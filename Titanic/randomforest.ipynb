{
 "cells": [
  {
   "cell_type": "code",
   "execution_count": 36,
   "metadata": {},
   "outputs": [],
   "source": [
    "import numpy as np\n",
    "from sklearn.ensemble import RandomForestClassifier\n",
    "from sklearn.model_selection import GridSearchCV\n",
    "\n",
    "import pandas as pd"
   ]
  },
  {
   "cell_type": "markdown",
   "metadata": {},
   "source": [
    "# Load train and test data"
   ]
  },
  {
   "cell_type": "markdown",
   "metadata": {},
   "source": [
    "Train features"
   ]
  },
  {
   "cell_type": "code",
   "execution_count": 15,
   "metadata": {},
   "outputs": [
    {
     "data": {
      "text/plain": [
       "(891, 7)"
      ]
     },
     "execution_count": 15,
     "metadata": {},
     "output_type": "execute_result"
    }
   ],
   "source": [
    "x_ = np.load(\"./x_train.npz\")\n",
    "x_train = x_['arr_0']\n",
    "x_train.shape"
   ]
  },
  {
   "cell_type": "markdown",
   "metadata": {},
   "source": [
    "Train targets"
   ]
  },
  {
   "cell_type": "code",
   "execution_count": 91,
   "metadata": {},
   "outputs": [
    {
     "data": {
      "text/plain": [
       "(891,)"
      ]
     },
     "execution_count": 91,
     "metadata": {},
     "output_type": "execute_result"
    }
   ],
   "source": [
    "y_ = np.load(\"./y_train.npz\")\n",
    "y_train = y_['arr_0']\n",
    "y_train.shape"
   ]
  },
  {
   "cell_type": "markdown",
   "metadata": {},
   "source": [
    "Test data"
   ]
  },
  {
   "cell_type": "code",
   "execution_count": 14,
   "metadata": {},
   "outputs": [],
   "source": [
    "x__ = np.load(\"./x_test.npz\")\n",
    "x_test = x__['arr_0']"
   ]
  },
  {
   "cell_type": "markdown",
   "metadata": {},
   "source": [
    "# Tree Ensamble"
   ]
  },
  {
   "cell_type": "code",
   "execution_count": 20,
   "metadata": {},
   "outputs": [
    {
     "data": {
      "text/plain": [
       "['mean_fit_time',\n",
       " 'mean_score_time',\n",
       " 'mean_test_score',\n",
       " 'param_max_depth',\n",
       " 'param_min_samples_split',\n",
       " 'param_n_estimators',\n",
       " 'params',\n",
       " 'rank_test_score',\n",
       " 'split0_test_score',\n",
       " 'split1_test_score',\n",
       " 'split2_test_score',\n",
       " 'split3_test_score',\n",
       " 'split4_test_score',\n",
       " 'std_fit_time',\n",
       " 'std_score_time',\n",
       " 'std_test_score']"
      ]
     },
     "execution_count": 20,
     "metadata": {},
     "output_type": "execute_result"
    }
   ],
   "source": [
    "n = [10,50,100,500]\n",
    "d = [2,4,8,16,32,64,None]\n",
    "s = [2,10,30,50,100,200,300,700]\n",
    "\n",
    "params = {'n_estimators':n,\n",
    "          'max_depth': d,\n",
    "          'min_samples_split': s}\n",
    "\n",
    "model = RandomForestClassifier()\n",
    "search = GridSearchCV(model, params)\n",
    "search.fit(x_train, y_train)\n",
    "sorted(search.cv_results_.keys())\n"
   ]
  },
  {
   "cell_type": "markdown",
   "metadata": {},
   "source": [
    "## Best model parameters"
   ]
  },
  {
   "cell_type": "code",
   "execution_count": 24,
   "metadata": {},
   "outputs": [
    {
     "name": "stdout",
     "output_type": "stream",
     "text": [
      "Best mean = [0.83955809] in parameters:\n",
      "scores_n_estimators = [50]\n",
      "scores_max_depth = [None]\n",
      "scores_min_samples_split = [10]\n"
     ]
    }
   ],
   "source": [
    "scores_min_samples_split = np.array(search.cv_results_['param_min_samples_split'])\n",
    "scores_max_depth = np.array(search.cv_results_['param_max_depth'])\n",
    "scores_n_estimators = np.array(search.cv_results_['param_n_estimators'])\n",
    "mean_test_score =np.array(search.cv_results_['mean_test_score'])\n",
    "rank_test_score =np.array(search.cv_results_['rank_test_score'])\n",
    "\n",
    "index_best_params = np.where(rank_test_score == 1)\n",
    "\n",
    "print(f\"Best mean = {mean_test_score[index_best_params]} in parameters:\")\n",
    "print(f\"scores_n_estimators = {scores_n_estimators[index_best_params]}\")\n",
    "print(f\"scores_max_depth = {scores_max_depth[index_best_params]}\")\n",
    "print(f\"scores_min_samples_split = {scores_min_samples_split[index_best_params]}\")"
   ]
  },
  {
   "cell_type": "markdown",
   "metadata": {},
   "source": [
    "## Plotting parameters selection"
   ]
  },
  {
   "cell_type": "code",
   "execution_count": 105,
   "metadata": {},
   "outputs": [
    {
     "data": {
      "text/plain": [
       "Text(0.5, 0, 'min samples split')"
      ]
     },
     "execution_count": 105,
     "metadata": {},
     "output_type": "execute_result"
    },
    {
     "data": {
      "image/png": "[encoded data removed]",
      "text/plain": [
       "<Figure size 2000x400 with 3 Axes>"
      ]
     },
     "metadata": {},
     "output_type": "display_data"
    }
   ],
   "source": [
    "import matplotlib.pyplot as plt\n",
    "\n",
    "fig, ax = plt.subplots(1,3, figsize=(20,4))\n",
    "ax[0].scatter(scores_n_estimators, mean_test_score, s = 5)\n",
    "ax[0].set_xlabel('tree qty')\n",
    "ax[0].set_ylabel('accuracy')\n",
    "ax[1].scatter(scores_max_depth, mean_test_score, s = 5)\n",
    "ax[1].set_xlabel('max depth')\n",
    "ax[2].scatter(scores_min_samples_split, mean_test_score, s = 5)\n",
    "ax[2].set_xlabel('min samples split')"
   ]
  },
  {
   "cell_type": "markdown",
   "metadata": {},
   "source": [
    "# Prediction"
   ]
  },
  {
   "cell_type": "code",
   "execution_count": 106,
   "metadata": {},
   "outputs": [],
   "source": [
    "best_model = RandomForestClassifier(n_estimators=50, max_depth=None, min_samples_split=50)\n",
    "best_model.fit(x_train, y_train)\n",
    "\n",
    "prediction = best_model.predict(x_test)"
   ]
  },
  {
   "cell_type": "markdown",
   "metadata": {},
   "source": [
    "# Output"
   ]
  },
  {
   "cell_type": "code",
   "execution_count": 87,
   "metadata": {},
   "outputs": [],
   "source": [
    "metadata = pd.read_csv(\"./raw_files/test.csv\")\n",
    "metadata = pd.DataFrame(metadata[\"PassengerId\"])\n",
    "\n",
    "prediction = pd.DataFrame(prediction.astype(int),columns=[\"Survived\"])\n",
    "\n",
    "result = pd.concat([metadata, prediction], axis=1, ignore_index=True)"
   ]
  },
  {
   "cell_type": "code",
   "execution_count": 90,
   "metadata": {},
   "outputs": [],
   "source": [
    "result.to_csv(\"result.csv\",sep=\",\", index=False, header = [\"PassengerId\", \"Survived\"])"
   ]
  }
 ],
 "metadata": {
  "kernelspec": {
   "display_name": "Python 3",
   "language": "python",
   "name": "python3"
  },
  "language_info": {
   "codemirror_mode": {
    "name": "ipython",
    "version": 3
   },
   "file_extension": ".py",
   "mimetype": "text/x-python",
   "name": "python",
   "nbconvert_exporter": "python",
   "pygments_lexer": "ipython3",
   "version": "3.9.13"
  },
  "orig_nbformat": 4
 },
 "nbformat": 4,
 "nbformat_minor": 2
}
